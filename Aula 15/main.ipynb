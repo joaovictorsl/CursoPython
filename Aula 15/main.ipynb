{
 "cells": [
  {
   "cell_type": "code",
   "execution_count": 1,
   "metadata": {},
   "outputs": [],
   "source": [
    "# Importando classe\n",
    "from Triangle import Triangle"
   ]
  },
  {
   "cell_type": "code",
   "execution_count": 3,
   "metadata": {},
   "outputs": [],
   "source": [
    "# Criando objeto da classe Triangle\n",
    "teste = Triangle(5, 5, 6)"
   ]
  },
  {
   "cell_type": "code",
   "execution_count": 7,
   "metadata": {},
   "outputs": [
    {
     "ename": "AttributeError",
     "evalue": "'Triangle' object has no attribute '__is_triangle_valid'",
     "output_type": "error",
     "traceback": [
      "\u001b[0;31m---------------------------------------------------------------------------\u001b[0m",
      "\u001b[0;31mAttributeError\u001b[0m                            Traceback (most recent call last)",
      "\u001b[0;32m/tmp/ipykernel_71511/295711830.py\u001b[0m in \u001b[0;36m<module>\u001b[0;34m\u001b[0m\n\u001b[1;32m      1\u001b[0m \u001b[0;31m# Dá erro\u001b[0m\u001b[0;34m\u001b[0m\u001b[0;34m\u001b[0m\u001b[0;34m\u001b[0m\u001b[0m\n\u001b[0;32m----> 2\u001b[0;31m \u001b[0mprint\u001b[0m\u001b[0;34m(\u001b[0m\u001b[0mteste\u001b[0m\u001b[0;34m.\u001b[0m\u001b[0m__is_triangle_valid\u001b[0m\u001b[0;34m(\u001b[0m\u001b[0;34m)\u001b[0m\u001b[0;34m)\u001b[0m\u001b[0;34m\u001b[0m\u001b[0;34m\u001b[0m\u001b[0m\n\u001b[0m",
      "\u001b[0;31mAttributeError\u001b[0m: 'Triangle' object has no attribute '__is_triangle_valid'"
     ]
    }
   ],
   "source": [
    "# Dá erro\n",
    "# print(teste.__is_triangle_valid())"
   ]
  },
  {
   "cell_type": "code",
   "execution_count": 8,
   "metadata": {},
   "outputs": [
    {
     "name": "stdout",
     "output_type": "stream",
     "text": [
      "2\n",
      "(5, 5, 6)\n",
      "(5, 5, 6)\n",
      "(12+0j)\n"
     ]
    }
   ],
   "source": [
    "# Não é o mesmo atributo __a da classe Triangle, é um atributo que você acabou de criar\n",
    "teste.__a = 2\n",
    "print(teste.__a)\n",
    "print(teste.get_sides())\n",
    "teste.__a = 99\n",
    "print(teste.get_sides())\n",
    "print(teste.get_area())"
   ]
  },
  {
   "cell_type": "code",
   "execution_count": 9,
   "metadata": {},
   "outputs": [
    {
     "name": "stdout",
     "output_type": "stream",
     "text": [
      "(69.2820323027551+0j)\n",
      "(10, 14, 16)\n",
      "99\n"
     ]
    }
   ],
   "source": [
    "# Alterando valores através de setters\n",
    "teste.set_sides(10, 14, 16)\n",
    "print(teste.get_area())\n",
    "print(teste.get_sides())\n",
    "# Prova que o __a não é o atributo privado\n",
    "print(teste.__a)"
   ]
  },
  {
   "cell_type": "code",
   "execution_count": 10,
   "metadata": {},
   "outputs": [
    {
     "name": "stdout",
     "output_type": "stream",
     "text": [
      "Variável privada 10\n",
      "('eita', 14, 16)\n",
      "(69.2820323027551+0j)\n"
     ]
    }
   ],
   "source": [
    "\n",
    "# Acessando variável privada\n",
    "print('Variável privada', teste._Triangle__a)\n",
    "# Consegue alterar a variável privada\n",
    "teste._Triangle__a = 'eita'\n",
    "print(teste.get_sides())\n",
    "print(teste._Triangle__calc_area())\n"
   ]
  }
 ],
 "metadata": {
  "interpreter": {
   "hash": "9bb63714e590c1c43720ef709dae4a3373251364181f530f8721f5a34b3f03bb"
  },
  "kernelspec": {
   "display_name": "Python 3.8.10 64-bit ('Lets_Code_DS': venv)",
   "language": "python",
   "name": "python3"
  },
  "language_info": {
   "codemirror_mode": {
    "name": "ipython",
    "version": 3
   },
   "file_extension": ".py",
   "mimetype": "text/x-python",
   "name": "python",
   "nbconvert_exporter": "python",
   "pygments_lexer": "ipython3",
   "version": "3.8.10"
  },
  "orig_nbformat": 4
 },
 "nbformat": 4,
 "nbformat_minor": 2
}
