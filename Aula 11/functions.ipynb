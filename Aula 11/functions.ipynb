{
 "cells": [
  {
   "cell_type": "code",
   "execution_count": 1,
   "metadata": {},
   "outputs": [],
   "source": [
    "# Declaração de uma função\n",
    "def nome_da_funcao(parametro1, parametro2, quantos_parametros_voce_quiser):\n",
    "    # Código para ser executado pela função\n",
    "    # Os parâmetros estão disponíveis dentro do corpo da função\n",
    "    print(parametro1, parametro2, quantos_parametros_voce_quiser)"
   ]
  },
  {
   "cell_type": "code",
   "execution_count": 2,
   "metadata": {},
   "outputs": [
    {
     "name": "stdout",
     "output_type": "stream",
     "text": [
      "oi 2 {'teste': 10}\n"
     ]
    }
   ],
   "source": [
    "nome_da_funcao('oi', 2, {'teste': 10})"
   ]
  },
  {
   "cell_type": "code",
   "execution_count": 5,
   "metadata": {},
   "outputs": [],
   "source": [
    "from types import FunctionType\n",
    "# High Order Functions\n",
    "# Uma função é chamada de função de alta ordem se ela conter outras funções como parâmetros ou retornar uma função como um output.\n",
    "def greet(func: FunctionType): \n",
    "    greeting = func(\"Hi, I am created by a function \\\n",
    "      passed as an argument.\")\n",
    "    print(greeting) "
   ]
  },
  {
   "cell_type": "code",
   "execution_count": 6,
   "metadata": {},
   "outputs": [],
   "source": [
    "# Anotações de tipo\n",
    "# string é do tipo str e a função teste retorna uma string\n",
    "def teste(string: str) -> str:\n",
    "    # Docstring\n",
    "    \"\"\"\n",
    "    Retorna a string recebida como argumento toda maiúscula.\n",
    "    \"\"\"\n",
    "    return string.upper()"
   ]
  },
  {
   "cell_type": "code",
   "execution_count": 7,
   "metadata": {},
   "outputs": [
    {
     "name": "stdout",
     "output_type": "stream",
     "text": [
      "HI, I AM CREATED BY A FUNCTION       PASSED AS AN ARGUMENT.\n"
     ]
    }
   ],
   "source": [
    "greet(teste)"
   ]
  },
  {
   "cell_type": "code",
   "execution_count": 10,
   "metadata": {},
   "outputs": [],
   "source": [
    "# Importa todo o arquivo teste\n",
    "# import teste\n",
    "# teste.funcao_que_quero_usar()\n",
    "# Importa apenas a função que queremos usar\n",
    "from teste import somar_numeros"
   ]
  },
  {
   "cell_type": "code",
   "execution_count": 9,
   "metadata": {},
   "outputs": [
    {
     "data": {
      "text/plain": [
       "10"
      ]
     },
     "execution_count": 9,
     "metadata": {},
     "output_type": "execute_result"
    }
   ],
   "source": [
    "somar_numeros(1,2,3,4)"
   ]
  }
 ],
 "metadata": {
  "interpreter": {
   "hash": "31f2aee4e71d21fbe5cf8b01ff0e069b9275f58929596ceb00d14d90e3e16cd6"
  },
  "kernelspec": {
   "display_name": "Python 3.8.10 64-bit",
   "language": "python",
   "name": "python3"
  },
  "language_info": {
   "codemirror_mode": {
    "name": "ipython",
    "version": 3
   },
   "file_extension": ".py",
   "mimetype": "text/x-python",
   "name": "python",
   "nbconvert_exporter": "python",
   "pygments_lexer": "ipython3",
   "version": "3.8.10"
  },
  "orig_nbformat": 4
 },
 "nbformat": 4,
 "nbformat_minor": 2
}
