{
 "cells": [
  {
   "cell_type": "code",
   "execution_count": 4,
   "metadata": {},
   "outputs": [
    {
     "name": "stdout",
     "output_type": "stream",
     "text": [
      "18\n",
      "12\n",
      "23\n"
     ]
    }
   ],
   "source": [
    "# Chave: Valor\n",
    "name_age_dict = {\n",
    "  \"João\": 18,\n",
    "  \"Maria\": 12,\n",
    "  'Fernando': 23\n",
    "}\n",
    "\n",
    "for key in name_age_dict.keys():\n",
    "    print(name_age_dict[key])\n",
    "# Mesmo resultado\n",
    "# for key in name_age_dict:\n",
    "#     print(name_age_dict[key])"
   ]
  },
  {
   "cell_type": "code",
   "execution_count": 5,
   "metadata": {},
   "outputs": [
    {
     "name": "stdout",
     "output_type": "stream",
     "text": [
      "12, 8, 6\n",
      "21, 6, 8\n",
      "24, 78, 70\n"
     ]
    }
   ],
   "source": [
    "teste = {\n",
    "  'teste1': {\n",
    "    'x': 12,\n",
    "    'y': 8,\n",
    "    'z': 6\n",
    "  },\n",
    "  'teste2': {\n",
    "    'x': 21,\n",
    "    'y': 6,\n",
    "    'z': 8\n",
    "  },\n",
    "  'teste3': {\n",
    "    'x': 24,\n",
    "    'y':78,\n",
    "    'z': 70\n",
    "  },\n",
    "}\n",
    "# Por default percorremos as keys em um dicionário\n",
    "for key in teste:\n",
    "    print(teste[key]['x'], end=', ')\n",
    "    print(teste[key]['y'], end=', ')\n",
    "    print(teste[key]['z'])"
   ]
  },
  {
   "cell_type": "code",
   "execution_count": 6,
   "metadata": {},
   "outputs": [
    {
     "name": "stdout",
     "output_type": "stream",
     "text": [
      "Achei\n"
     ]
    }
   ],
   "source": [
    "# .get é uma maneira segura de acessar valores em um dicionário\n",
    "teste['laranja'] = []\n",
    "if teste.get('laranja') != None:\n",
    "    print('Achei')"
   ]
  },
  {
   "cell_type": "code",
   "execution_count": 7,
   "metadata": {},
   "outputs": [
    {
     "data": {
      "text/plain": [
       "{'x': 12, 'y': 8, 'z': 6}"
      ]
     },
     "execution_count": 7,
     "metadata": {},
     "output_type": "execute_result"
    }
   ],
   "source": [
    "# Retira a chave e retorna seu valor\n",
    "teste.pop('teste1')"
   ]
  },
  {
   "cell_type": "code",
   "execution_count": 8,
   "metadata": {},
   "outputs": [],
   "source": [
    "# Retira a chave e não retorna nada\n",
    "del teste['teste2']"
   ]
  },
  {
   "cell_type": "code",
   "execution_count": 9,
   "metadata": {},
   "outputs": [
    {
     "data": {
      "text/plain": [
       "{'teste3': {'x': 24, 'y': 78, 'z': 70}, 'laranja': []}"
      ]
     },
     "execution_count": 9,
     "metadata": {},
     "output_type": "execute_result"
    }
   ],
   "source": [
    "teste"
   ]
  },
  {
   "cell_type": "code",
   "execution_count": 10,
   "metadata": {},
   "outputs": [
    {
     "data": {
      "text/plain": [
       "3"
      ]
     },
     "execution_count": 10,
     "metadata": {},
     "output_type": "execute_result"
    }
   ],
   "source": [
    "teste['laranja'] = [1,2,3]\n",
    "teste['laranja'][2]"
   ]
  },
  {
   "cell_type": "code",
   "execution_count": 17,
   "metadata": {},
   "outputs": [
    {
     "name": "stdout",
     "output_type": "stream",
     "text": [
      "Oi#Tchau$Oi#Tchau$"
     ]
    }
   ],
   "source": [
    "# Kwargs\n",
    "params = {\n",
    "  'end': '$',\n",
    "  'sep': '#'\n",
    "}\n",
    "print('Oi', 'Tchau',**params)\n",
    "print('Oi', 'Tchau',**params)"
   ]
  },
  {
   "cell_type": "code",
   "execution_count": 12,
   "metadata": {},
   "outputs": [
    {
     "data": {
      "text/plain": [
       "28"
      ]
     },
     "execution_count": 12,
     "metadata": {},
     "output_type": "execute_result"
    }
   ],
   "source": [
    "# Criando nova chave com valor\n",
    "name_age_dict['Raquel'] = 28\n",
    "name_age_dict['Raquel']"
   ]
  },
  {
   "cell_type": "code",
   "execution_count": 18,
   "metadata": {},
   "outputs": [
    {
     "data": {
      "text/plain": [
       "8"
      ]
     },
     "execution_count": 18,
     "metadata": {},
     "output_type": "execute_result"
    }
   ],
   "source": [
    "# Redefinindo valor de chave\n",
    "name_age_dict['Raquel'] = 8\n",
    "name_age_dict['Raquel']"
   ]
  },
  {
   "cell_type": "code",
   "execution_count": 20,
   "metadata": {},
   "outputs": [
    {
     "name": "stdout",
     "output_type": "stream",
     "text": [
      "João\n",
      "Maria\n",
      "Fernando\n",
      "Raquel\n"
     ]
    }
   ],
   "source": [
    "for i in name_age_dict.keys():\n",
    "    print(i)"
   ]
  },
  {
   "cell_type": "code",
   "execution_count": 21,
   "metadata": {},
   "outputs": [
    {
     "name": "stdout",
     "output_type": "stream",
     "text": [
      "18\n",
      "12\n",
      "23\n",
      "8\n"
     ]
    }
   ],
   "source": [
    "for i in  name_age_dict.values():\n",
    "      print(i)"
   ]
  },
  {
   "cell_type": "code",
   "execution_count": 23,
   "metadata": {},
   "outputs": [
    {
     "name": "stdout",
     "output_type": "stream",
     "text": [
      "João 18\n",
      "Maria 12\n",
      "Fernando 23\n",
      "Raquel 8\n"
     ]
    }
   ],
   "source": [
    "# Percorre pela tupla (chave, valor)\n",
    "for key, value in  name_age_dict.items():\n",
    "      print(key, value)"
   ]
  }
 ],
 "metadata": {
  "interpreter": {
   "hash": "31f2aee4e71d21fbe5cf8b01ff0e069b9275f58929596ceb00d14d90e3e16cd6"
  },
  "kernelspec": {
   "display_name": "Python 3.8.10 64-bit",
   "language": "python",
   "name": "python3"
  },
  "language_info": {
   "codemirror_mode": {
    "name": "ipython",
    "version": 3
   },
   "file_extension": ".py",
   "mimetype": "text/x-python",
   "name": "python",
   "nbconvert_exporter": "python",
   "pygments_lexer": "ipython3",
   "version": "3.8.10"
  },
  "orig_nbformat": 4
 },
 "nbformat": 4,
 "nbformat_minor": 2
}
