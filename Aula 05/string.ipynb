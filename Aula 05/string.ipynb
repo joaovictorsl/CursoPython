{
 "cells": [
  {
   "cell_type": "code",
   "execution_count": 2,
   "metadata": {},
   "outputs": [
    {
     "name": "stdout",
     "output_type": "stream",
     "text": [
      "teste testado\n",
      "testetestado\n"
     ]
    }
   ],
   "source": [
    "# Concatenação de strings\n",
    "print('teste' + ' testado')\n",
    "print('teste' + 'testado')"
   ]
  },
  {
   "cell_type": "code",
   "execution_count": 3,
   "metadata": {},
   "outputs": [
    {
     "data": {
      "text/plain": [
       "'####################################################################################################'"
      ]
     },
     "execution_count": 3,
     "metadata": {},
     "output_type": "execute_result"
    }
   ],
   "source": [
    "# Repetir string n vezes\n",
    "'#' * 100"
   ]
  },
  {
   "cell_type": "code",
   "execution_count": 4,
   "metadata": {},
   "outputs": [
    {
     "name": "stdout",
     "output_type": "stream",
     "text": [
      "F\n",
      "r\n",
      "Fer\n",
      "ndo\n",
      "odnanreF\n"
     ]
    }
   ],
   "source": [
    "# Se lembre que começamos a contar do 0!!!\n",
    "#      01234567\n",
    "print('Fernando'[0]) # Pega a letra na primeira posição\n",
    "print('Fernando'[2]) # Pega a letra na terceira posição\n",
    "print('Fernando'[:3]) # Pega as letras até a terceira posição\n",
    "print('Fernando'[-3:]) # Da terceira letra de trás pra frente até a última\n",
    "print('Fernando'[::-1]) # Inverte a string"
   ]
  },
  {
   "cell_type": "code",
   "execution_count": 5,
   "metadata": {},
   "outputs": [
    {
     "data": {
      "text/plain": [
       "5"
      ]
     },
     "execution_count": 5,
     "metadata": {},
     "output_type": "execute_result"
    }
   ],
   "source": [
    "# Tamanho da string\n",
    "len('Teste')"
   ]
  },
  {
   "cell_type": "code",
   "execution_count": 6,
   "metadata": {},
   "outputs": [
    {
     "data": {
      "text/plain": [
       "'Testa'"
      ]
     },
     "execution_count": 6,
     "metadata": {},
     "output_type": "execute_result"
    }
   ],
   "source": [
    "# 'Teste' =  'Teste'\n",
    "# 'Teste'[::-1] = 'etseT'\n",
    "# 'Teste'[::-1].replace('e', 'a', 1) = 'atseT'\n",
    "# 'Teste'[::-1].replace('e', 'a', 1)[::-1] = 'Testa'\n",
    "'Teste'[::-1].replace('e', 'a', 1)[::-1]"
   ]
  },
  {
   "cell_type": "code",
   "execution_count": 8,
   "metadata": {},
   "outputs": [
    {
     "data": {
      "text/plain": [
       "'7#14#106'"
      ]
     },
     "execution_count": 8,
     "metadata": {},
     "output_type": "execute_result"
    }
   ],
   "source": [
    "frase = '7 14 106'.split() # Vira uma lista de strings ['7', '14', '106']\n",
    "'#'.join(frase) # Junta todos os elementos da lista com '#'"
   ]
  },
  {
   "cell_type": "code",
   "execution_count": 10,
   "metadata": {},
   "outputs": [
    {
     "name": "stdout",
     "output_type": "stream",
     "text": [
      "TESTE\n",
      "teste\n"
     ]
    }
   ],
   "source": [
    "print('teste'.upper()) # Transforma em letra maiúscula\n",
    "print('TESTE'.lower()) # Transforma em letra minúscula"
   ]
  },
  {
   "cell_type": "code",
   "execution_count": 11,
   "metadata": {},
   "outputs": [
    {
     "data": {
      "text/plain": [
       "'Teste De Teste'"
      ]
     },
     "execution_count": 11,
     "metadata": {},
     "output_type": "execute_result"
    }
   ],
   "source": [
    "'teste de teste'.title() # Coloca toda primeira letra das palavras maiúscula"
   ]
  },
  {
   "cell_type": "code",
   "execution_count": 12,
   "metadata": {},
   "outputs": [
    {
     "data": {
      "text/plain": [
       "'Testando capitalize'"
      ]
     },
     "execution_count": 12,
     "metadata": {},
     "output_type": "execute_result"
    }
   ],
   "source": [
    "'testando capitalize'.capitalize() # Coloca a primeira letra da string maiúscula"
   ]
  },
  {
   "cell_type": "code",
   "execution_count": 14,
   "metadata": {},
   "outputs": [
    {
     "data": {
      "text/plain": [
       "1"
      ]
     },
     "execution_count": 14,
     "metadata": {},
     "output_type": "execute_result"
    }
   ],
   "source": [
    "# a != A\n",
    "'MAria'.count('a') # Conta as ocorrências de 'a'"
   ]
  },
  {
   "cell_type": "code",
   "execution_count": 15,
   "metadata": {},
   "outputs": [
    {
     "name": "stdout",
     "output_type": "stream",
     "text": [
      "oi, meu       nome é João     \n",
      "       oi, meu       nome é João\n",
      "oi, meu       nome é João\n"
     ]
    }
   ],
   "source": [
    "print('       oi, meu       nome é João     '.lstrip()) # Tira espaços antes\n",
    "print('       oi, meu       nome é João     '.rstrip()) # Tira espaços depois\n",
    "print('       oi, meu       nome é João     '.strip()) # Tira espaços antes e depois"
   ]
  },
  {
   "cell_type": "code",
   "execution_count": 16,
   "metadata": {},
   "outputs": [
    {
     "name": "stdout",
     "output_type": "stream",
     "text": [
      "True\n",
      "False\n"
     ]
    }
   ],
   "source": [
    "# Verifica se string possui apenas números\n",
    "print('24'.isnumeric())\n",
    "print('24a'.isnumeric())"
   ]
  },
  {
   "cell_type": "code",
   "execution_count": 18,
   "metadata": {},
   "outputs": [
    {
     "name": "stdout",
     "output_type": "stream",
     "text": [
      "Meu nome é Mário Teste\n",
      "Meu nome é Teste Mário\n"
     ]
    }
   ],
   "source": [
    "# O format coloca as variáveis respectivamente nos {}, porém você pode controlar a ordem\n",
    "# se você colocar indexes dentro dos {}\n",
    "nome = 'Mário'\n",
    "print('Meu nome é {} {}'.format(nome, 'Teste'))\n",
    "print('Meu nome é {1} {0}'.format(nome, 'Teste'))"
   ]
  },
  {
   "cell_type": "code",
   "execution_count": 19,
   "metadata": {},
   "outputs": [
    {
     "data": {
      "text/plain": [
       "'Meu nome é Mário'"
      ]
     },
     "execution_count": 19,
     "metadata": {},
     "output_type": "execute_result"
    }
   ],
   "source": [
    "f'Meu nome é {nome}'"
   ]
  },
  {
   "cell_type": "code",
   "execution_count": 22,
   "metadata": {},
   "outputs": [
    {
     "name": "stdout",
     "output_type": "stream",
     "text": [
      "O valor é: 0\n",
      "O valor é: 0.333\n"
     ]
    }
   ],
   "source": [
    "# Controla n° de casas decimais\n",
    "decimal = 0.33333333333333333\n",
    "print(f'O valor é: {decimal:.0f}')\n",
    "print(f'O valor é: {decimal:.3f}')"
   ]
  },
  {
   "cell_type": "code",
   "execution_count": 23,
   "metadata": {},
   "outputs": [
    {
     "name": "stdout",
     "output_type": "stream",
     "text": [
      "Meu nome é Mário     .\n",
      "Meu nome é      Mário.\n"
     ]
    }
   ],
   "source": [
    "# A variável ocupa dez espaços e se encontra no início deles (esquerda)\n",
    "print(f'Meu nome é {nome:<10}.')\n",
    "# A variável ocupa dez espaços e se encontra no fim deles (direita)\n",
    "print(f'Meu nome é {nome:>10}.')"
   ]
  },
  {
   "cell_type": "code",
   "execution_count": 24,
   "metadata": {},
   "outputs": [
    {
     "data": {
      "text/plain": [
       "10"
      ]
     },
     "execution_count": 24,
     "metadata": {},
     "output_type": "execute_result"
    }
   ],
   "source": [
    "len('Mário     ')"
   ]
  },
  {
   "cell_type": "code",
   "execution_count": 25,
   "metadata": {},
   "outputs": [
    {
     "data": {
      "text/plain": [
       "'oi, meu nome é João'"
      ]
     },
     "execution_count": 25,
     "metadata": {},
     "output_type": "execute_result"
    }
   ],
   "source": [
    "# Como retirar todos os espaços extras de uma string\n",
    "string_para_juntar = '       oi, meu       nome é João     '.split()\n",
    "' '.join(string_para_juntar)"
   ]
  },
  {
   "cell_type": "code",
   "execution_count": 26,
   "metadata": {},
   "outputs": [
    {
     "data": {
      "text/plain": [
       "'t'"
      ]
     },
     "execution_count": 26,
     "metadata": {},
     "output_type": "execute_result"
    }
   ],
   "source": [
    "# Encontrar index de uma letra em string\n",
    "exemplo = 'teste'\n",
    "idx = exemplo.index('t')\n",
    "exemplo[idx]"
   ]
  },
  {
   "cell_type": "code",
   "execution_count": 27,
   "metadata": {},
   "outputs": [
    {
     "data": {
      "text/plain": [
       "'48'"
      ]
     },
     "execution_count": 27,
     "metadata": {},
     "output_type": "execute_result"
    }
   ],
   "source": [
    "exemplo = 'teste48teste'\n",
    "start_index = exemplo.find('48')\n",
    "# exemplo[5:(5 + len('48'))]\n",
    "exemplo[5:5 + len('48')]"
   ]
  }
 ],
 "metadata": {
  "interpreter": {
   "hash": "31f2aee4e71d21fbe5cf8b01ff0e069b9275f58929596ceb00d14d90e3e16cd6"
  },
  "kernelspec": {
   "display_name": "Python 3.8.10 64-bit",
   "language": "python",
   "name": "python3"
  },
  "language_info": {
   "codemirror_mode": {
    "name": "ipython",
    "version": 3
   },
   "file_extension": ".py",
   "mimetype": "text/x-python",
   "name": "python",
   "nbconvert_exporter": "python",
   "pygments_lexer": "ipython3",
   "version": "3.8.10"
  },
  "orig_nbformat": 4
 },
 "nbformat": 4,
 "nbformat_minor": 2
}
