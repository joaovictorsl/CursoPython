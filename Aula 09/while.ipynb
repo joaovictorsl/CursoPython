{
 "cells": [
  {
   "cell_type": "code",
   "execution_count": 15,
   "metadata": {},
   "outputs": [
    {
     "name": "stdout",
     "output_type": "stream",
     "text": [
      "Entrada inválida, tente novamente.\n",
      "Entrada inválida, tente novamente.\n",
      "Entrada inválida, tente novamente.\n",
      "essa string: 1, é numérica.\n"
     ]
    }
   ],
   "source": [
    "# Quero que o usuário coloque um input que seja numérico\n",
    "while True:\n",
    "    # Pego input\n",
    "    entrada = input()\n",
    "    # Só consigo sair do while se o input for numérico\n",
    "    if not entrada.isnumeric():\n",
    "        print('Entrada inválida, tente novamente.')\n",
    "        continue\n",
    "    break\n",
    "print(f'essa string: {entrada}, é numérica.')"
   ]
  },
  {
   "cell_type": "code",
   "execution_count": 17,
   "metadata": {},
   "outputs": [
    {
     "name": "stdout",
     "output_type": "stream",
     "text": [
      "1\n",
      "2\n",
      "3\n",
      "4\n",
      "5\n",
      "\n",
      "['1', '2', '3', '4', '5']\n"
     ]
    }
   ],
   "source": [
    "# Preencho a lista de dados até receber uma string vazia (''), ocorre ao apertar enter sem digitar nada.\n",
    "data_list = []\n",
    "while True:\n",
    "    entrada = input()\n",
    "    if not entrada: break\n",
    "    data_list.append(entrada)\n",
    "\n",
    "print(data_list)"
   ]
  },
  {
   "cell_type": "code",
   "execution_count": 26,
   "metadata": {},
   "outputs": [
    {
     "name": "stdout",
     "output_type": "stream",
     "text": [
      "['1', '2', '3', '4', '5']\n"
     ]
    }
   ],
   "source": [
    "# Mesma coisa da célula acima, porém menos legível\n",
    "data_list = []\n",
    "entrada = input()\n",
    "while entrada:\n",
    "    data_list.append(entrada)\n",
    "    entrada = input()\n",
    "print(data_list)"
   ]
  }
 ],
 "metadata": {
  "interpreter": {
   "hash": "31f2aee4e71d21fbe5cf8b01ff0e069b9275f58929596ceb00d14d90e3e16cd6"
  },
  "kernelspec": {
   "display_name": "Python 3.8.10 64-bit",
   "language": "python",
   "name": "python3"
  },
  "language_info": {
   "codemirror_mode": {
    "name": "ipython",
    "version": 3
   },
   "file_extension": ".py",
   "mimetype": "text/x-python",
   "name": "python",
   "nbconvert_exporter": "python",
   "pygments_lexer": "ipython3",
   "version": "3.8.10"
  },
  "orig_nbformat": 4
 },
 "nbformat": 4,
 "nbformat_minor": 2
}
