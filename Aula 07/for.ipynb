{
 "cells": [
  {
   "cell_type": "code",
   "execution_count": 1,
   "metadata": {},
   "outputs": [
    {
     "name": "stdout",
     "output_type": "stream",
     "text": [
      "Hello World 0\n",
      "Hello World 1\n",
      "Hello World 2\n",
      "Hello World 3\n",
      "Hello World 4\n",
      "Hello World 5\n",
      "Hello World 6\n",
      "Hello World 7\n",
      "Hello World 8\n",
      "Hello World 9\n"
     ]
    }
   ],
   "source": [
    "# i assume um valor diferente a cada iteração começando por 0 como default\n",
    "for i in range(10):\n",
    "    print('Hello World', i)\n",
    "# for i in range(10, 2):\n",
    "#     print('Hello World', i)\n",
    "# for i in range(10, 0, -2):\n",
    "#     print('Hello World', i)"
   ]
  },
  {
   "cell_type": "code",
   "execution_count": 2,
   "metadata": {},
   "outputs": [
    {
     "name": "stdout",
     "output_type": "stream",
     "text": [
      "a\n",
      "b\n",
      "a\n",
      "c\n",
      "a\n",
      "x\n",
      "i\n"
     ]
    }
   ],
   "source": [
    "for letra in 'abacaxi':\n",
    "    print(letra)"
   ]
  },
  {
   "cell_type": "code",
   "execution_count": 3,
   "metadata": {},
   "outputs": [
    {
     "name": "stdout",
     "output_type": "stream",
     "text": [
      "0 1\n",
      "1 2\n",
      "2 3\n"
     ]
    }
   ],
   "source": [
    "num_list = [0,1,2]\n",
    "for num in num_list:\n",
    "    print(num, num + 1)"
   ]
  },
  {
   "cell_type": "code",
   "execution_count": 4,
   "metadata": {},
   "outputs": [
    {
     "name": "stdout",
     "output_type": "stream",
     "text": [
      "O número da vez é 0\n",
      "O número da vez é 1\n",
      "1\n",
      "O número da vez é 2\n",
      "O número da vez é 3\n",
      "3\n",
      "O número da vez é 4\n",
      "O número da vez é 5\n",
      "5\n",
      "O número da vez é 6\n",
      "O número da vez é 7\n",
      "7\n",
      "O número da vez é 8\n",
      "O número da vez é 9\n",
      "9\n",
      "O número da vez é 10\n",
      "O número da vez é 11\n",
      "11\n",
      "O número da vez é 12\n",
      "O número da vez é 13\n",
      "13\n",
      "O número da vez é 14\n",
      "O número da vez é 15\n",
      "15\n",
      "O número da vez é 16\n",
      "O número da vez é 17\n",
      "17\n",
      "O número da vez é 18\n",
      "O número da vez é 19\n",
      "19\n",
      "O número da vez é 20\n",
      "O número da vez é 21\n"
     ]
    }
   ],
   "source": [
    "# Criando lista de 0 até 100\n",
    "num_list = list(range(100))\n",
    "for num in num_list:\n",
    "    print(f'O número da vez é {num}')\n",
    "    if num > 20:\n",
    "        # Break sai e para o for\n",
    "        break\n",
    "    if num % 2 != 0:\n",
    "        print(num)"
   ]
  },
  {
   "cell_type": "code",
   "execution_count": 5,
   "metadata": {},
   "outputs": [
    {
     "name": "stdout",
     "output_type": "stream",
     "text": [
      "O número da vez é 1\n",
      "1 não é 10\n",
      "O número da vez é 2\n",
      "2 não é 10\n",
      "O número da vez é 3\n",
      "3 não é 10\n",
      "O número da vez é 4\n",
      "4 não é 10\n",
      "O número da vez é 5\n",
      "5 não é 10\n",
      "O número da vez é 6\n",
      "6 não é 10\n",
      "O número da vez é 7\n",
      "7 não é 10\n",
      "O número da vez é 8\n",
      "8 não é 10\n",
      "O número da vez é 9\n",
      "9 não é 10\n",
      "O número da vez é 10\n",
      "O número da vez é 11\n",
      "11 não é 10\n",
      "O número da vez é 12\n",
      "12 não é 10\n",
      "O número da vez é 13\n",
      "13 não é 10\n",
      "O número da vez é 14\n",
      "14 não é 10\n",
      "O número da vez é 15\n",
      "15 não é 10\n",
      "O número da vez é 16\n",
      "16 não é 10\n",
      "O número da vez é 17\n",
      "17 não é 10\n",
      "O número da vez é 18\n",
      "18 não é 10\n",
      "O número da vez é 19\n",
      "19 não é 10\n",
      "O número da vez é 20\n",
      "20 não é 10\n"
     ]
    }
   ],
   "source": [
    "num_list = list(range(1,21))\n",
    "for num in num_list:\n",
    "    print(f'O número da vez é {num}')\n",
    "    if num == 10:\n",
    "        # Continua para a PRÓXIMA ITERAÇÃO\n",
    "        continue\n",
    "    print(f'{num} não é 10')"
   ]
  },
  {
   "cell_type": "code",
   "execution_count": 7,
   "metadata": {},
   "outputs": [
    {
     "name": "stdout",
     "output_type": "stream",
     "text": [
      "0\n",
      "1\n",
      "[2, 3]\n",
      "4\n",
      "5\n",
      "6\n",
      "[7]\n",
      "8\n"
     ]
    }
   ],
   "source": [
    "my_list = [[0,1,2,3,4], [5,6,7,8]]\n",
    "# Unpack\n",
    "# O * significa pegar tudo entre b e d\n",
    "for a,b,*c,d in my_list:\n",
    "    print(a)\n",
    "    print(b)\n",
    "    print(c)\n",
    "    print(d)"
   ]
  },
  {
   "cell_type": "code",
   "execution_count": 8,
   "metadata": {},
   "outputs": [
    {
     "name": "stdout",
     "output_type": "stream",
     "text": [
      "0 João\n",
      "1 Camila\n",
      "2 Davi\n",
      "3 Arthur\n",
      "4 Igor\n"
     ]
    }
   ],
   "source": [
    "my_list = ['João', 'Camila', 'Davi', 'Arthur', 'Igor']\n",
    "for idx, value in enumerate(my_list):\n",
    "    print(idx, value)"
   ]
  }
 ],
 "metadata": {
  "interpreter": {
   "hash": "31f2aee4e71d21fbe5cf8b01ff0e069b9275f58929596ceb00d14d90e3e16cd6"
  },
  "kernelspec": {
   "display_name": "Python 3.8.10 64-bit",
   "language": "python",
   "name": "python3"
  },
  "language_info": {
   "codemirror_mode": {
    "name": "ipython",
    "version": 3
   },
   "file_extension": ".py",
   "mimetype": "text/x-python",
   "name": "python",
   "nbconvert_exporter": "python",
   "pygments_lexer": "ipython3",
   "version": "3.8.10"
  },
  "orig_nbformat": 4
 },
 "nbformat": 4,
 "nbformat_minor": 2
}
