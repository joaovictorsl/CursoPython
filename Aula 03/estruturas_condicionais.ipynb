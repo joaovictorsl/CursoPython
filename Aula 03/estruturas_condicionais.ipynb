{
 "cells": [
  {
   "cell_type": "code",
   "execution_count": 1,
   "metadata": {},
   "outputs": [
    {
     "name": "stdout",
     "output_type": "stream",
     "text": [
      "verdade\n",
      "Teste\n"
     ]
    }
   ],
   "source": [
    "# Cuidado com a identação!\n",
    "# O código identado só é executado se a condição resultar em True\n",
    "if 1:\n",
    "    print('verdade')\n",
    "    if 0:\n",
    "        print('Identado')\n",
    "print('Teste')"
   ]
  },
  {
   "cell_type": "code",
   "execution_count": 2,
   "metadata": {},
   "outputs": [],
   "source": [
    "# Alguns valores são considerados falsos em python, por exemplo: 0, '', [], None e outros\n",
    "if 0:\n",
    "  print('mentira')"
   ]
  },
  {
   "cell_type": "code",
   "execution_count": 3,
   "metadata": {},
   "outputs": [
    {
     "name": "stdout",
     "output_type": "stream",
     "text": [
      "Oi\n"
     ]
    }
   ],
   "source": [
    "# AND tem preferência sobre o OR\n",
    "if True or True and False and False:\n",
    "    print('Oi')\n",
    "if False:\n",
    "    print('Teste')"
   ]
  },
  {
   "cell_type": "code",
   "execution_count": 4,
   "metadata": {},
   "outputs": [
    {
     "name": "stdout",
     "output_type": "stream",
     "text": [
      "Oi\n"
     ]
    }
   ],
   "source": [
    "# Else é executado caso nenhuma das situações posteriores sejam verdadeiras\n",
    "# A condição do elif só é executado se o if posterior for falsa\n",
    "analisar = 'Esperança'\n",
    "if analisar == 'Esperança':\n",
    "    print('Oi')\n",
    "elif analisar == 'Preguiça':\n",
    "    print('Dormir')\n",
    "else:\n",
    "    print('Tchau')"
   ]
  }
 ],
 "metadata": {
  "interpreter": {
   "hash": "916dbcbb3f70747c44a77c7bcd40155683ae19c65e1c03b4aa3499c5328201f1"
  },
  "kernelspec": {
   "display_name": "Python 3.8.10 64-bit",
   "language": "python",
   "name": "python3"
  },
  "language_info": {
   "codemirror_mode": {
    "name": "ipython",
    "version": 3
   },
   "file_extension": ".py",
   "mimetype": "text/x-python",
   "name": "python",
   "nbconvert_exporter": "python",
   "pygments_lexer": "ipython3",
   "version": "3.8.10"
  },
  "orig_nbformat": 4
 },
 "nbformat": 4,
 "nbformat_minor": 2
}
