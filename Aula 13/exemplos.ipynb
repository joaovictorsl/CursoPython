{
 "cells": [
  {
   "cell_type": "code",
   "execution_count": 9,
   "metadata": {},
   "outputs": [],
   "source": [
    "# Abrir o arquivo com w e escrever nele gera um overwrite\n",
    "with open('teste.txt', 'w') as file:\n",
    "    file.writelines(['eita\\n', 'teste\\n', 'vamos\\n', 'testar\\n', 'olha\\n', 'só\\n', 'o\\n', 'teste'])"
   ]
  },
  {
   "cell_type": "code",
   "execution_count": 10,
   "metadata": {},
   "outputs": [
    {
     "data": {
      "text/plain": [
       "'eita\\nteste\\nvamos\\ntestar\\nolha\\nsó\\no\\nteste'"
      ]
     },
     "execution_count": 10,
     "metadata": {},
     "output_type": "execute_result"
    }
   ],
   "source": [
    "# Procure sobre modos de abrir um arquivo em python\n",
    "# Sempre que abrir um arquivo não se esqueça de fechá-lo\n",
    "teste = open('./teste.txt')\n",
    "# Lê todo o arquivo como uma string\n",
    "teste.read()\n",
    "# Retorna uma linha por vez\n",
    "# teste.readline()\n",
    "# Retorna todas as linhas em uma lista\n",
    "# teste.readlines()"
   ]
  },
  {
   "cell_type": "code",
   "execution_count": 11,
   "metadata": {},
   "outputs": [],
   "source": [
    "# Você pode utilizar o with\n",
    "with open('./teste.txt', 'a') as file:\n",
    "    file.write('Escrevi no arquivo usando append, por isso ele n sofreu overwrite')"
   ]
  }
 ],
 "metadata": {
  "interpreter": {
   "hash": "9bb63714e590c1c43720ef709dae4a3373251364181f530f8721f5a34b3f03bb"
  },
  "kernelspec": {
   "display_name": "Python 3.8.10 64-bit ('Lets_Code_DS': venv)",
   "language": "python",
   "name": "python3"
  },
  "language_info": {
   "codemirror_mode": {
    "name": "ipython",
    "version": 3
   },
   "file_extension": ".py",
   "mimetype": "text/x-python",
   "name": "python",
   "nbconvert_exporter": "python",
   "pygments_lexer": "ipython3",
   "version": "3.8.10"
  },
  "orig_nbformat": 4
 },
 "nbformat": 4,
 "nbformat_minor": 2
}
